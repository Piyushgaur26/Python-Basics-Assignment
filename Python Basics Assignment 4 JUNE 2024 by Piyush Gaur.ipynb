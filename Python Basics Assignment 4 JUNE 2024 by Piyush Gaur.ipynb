{
 "cells": [
  {
   "cell_type": "markdown",
   "metadata": {},
   "source": [
    "# ***Python Basics Assignment 4 JUNE 2024 by Piyush Gaur***"
   ]
  },
  {
   "cell_type": "markdown",
   "metadata": {},
   "source": [
    "#### 1. Explain the key feature of Python that makes it popular choice of programming  "
   ]
  },
  {
   "cell_type": "markdown",
   "metadata": {},
   "source": [
    "* Python is a programming language that is easy to understand and write, making it a popular choice among developers and programmers. \n",
    "\n",
    "* It is compatible with various programming paradigms, such as procedural, object-oriented, and functional programming.\n",
    " \n",
    "* Python has a large and active community of developers, an extensive standard library, and third-party packages for various domains. "
   ]
  },
  {
   "cell_type": "markdown",
   "metadata": {},
   "source": [
    "#### 2. Describe the role of predefined keywords in Python and provide example on how are used in a program   "
   ]
  },
  {
   "cell_type": "markdown",
   "metadata": {},
   "source": [
    "* Keywords are reserved words in Python that have special meanings and cannot be used as identifiers (variable names, function  names, etc.). \n",
    "\n",
    "* Examples of keywords include if, else, while, for, def, class, import, try, except, return, True, False, None, etc.\n",
    "\n",
    "* Keywords are case-sensitive and cannot be redefined or overridden within a Python program."
   ]
  },
  {
   "cell_type": "code",
   "execution_count": 2,
   "metadata": {},
   "outputs": [],
   "source": [
    "\n",
    "# Define a function using 'def' keyword\n",
    "def calculate_area(radius):\n",
    "    # Use 'if', 'elif', and 'else' keywords for conditional statements\n",
    "    if radius < 0:\n",
    "        return None  # 'return' keyword to exit the function and return a value\n",
    "    elif radius == 0:\n",
    "        return 0\n",
    "    else:\n",
    "        # Use 'import' keyword to include the math module\n",
    "        import math\n",
    "        # Use 'return' to return the result of the calculation\n",
    "        return math.pi * radius ** 2"
   ]
  },
  {
   "cell_type": "markdown",
   "metadata": {},
   "source": [
    "#### 2. Compare and contrast mutable and immutable objects in python with example "
   ]
  },
  {
   "cell_type": "markdown",
   "metadata": {},
   "source": [
    "* In Python, objects can be either changeable (modifiable) or unchangeable (unchangeable). \n",
    "\n",
    "* Mutable objects, such as lists and dictionaries, can be modified after creation, while immutable objects, such as tuples and strings, cannot. \n",
    "\n",
    "* Mutability affects how objects are stored and manipulated in memory, impacting performance, memory usage, and concurrency in Python programs. "
   ]
  },
  {
   "cell_type": "code",
   "execution_count": 7,
   "metadata": {},
   "outputs": [
    {
     "name": "stdout",
     "output_type": "stream",
     "text": [
      "[1, 2, 3] 2468889950848\n",
      "[1, 2, 3, 4] 2468889950848\n"
     ]
    }
   ],
   "source": [
    "# Mutable Example: Lists\n",
    "list1 = [1, 2, 3]\n",
    "print(list1,end=' ')\n",
    "print(id(list1))  # Print memory address of list1\n",
    "\n",
    "list1.append(4)\n",
    "print(list1,end=' ')\n",
    "print(id(list1))  # Print memory address of list1 after modification\n",
    "# The memory address will be the same because the list object was modified in place."
   ]
  },
  {
   "cell_type": "code",
   "execution_count": 9,
   "metadata": {},
   "outputs": [
    {
     "name": "stdout",
     "output_type": "stream",
     "text": [
      "(1, 2, 3) 2468890128000\n",
      "(1, 2, 3, 4) 2468890049200\n"
     ]
    }
   ],
   "source": [
    "# Immutable Example: Tuples\n",
    "tuple1 = (1, 2, 3)\n",
    "print(tuple1,end=' ')\n",
    "print(id(tuple1))  # Print memory address of tuple1\n",
    "\n",
    "tuple1 += (4,)\n",
    "print(tuple1,end=' ')\n",
    "print(id(tuple1))  # Print memory address of tuple1 after modification\n",
    "# The memory address will be different because a new tuple object was created."
   ]
  },
  {
   "cell_type": "markdown",
   "metadata": {},
   "source": [
    "#### 4. Explain the different types of operators in python and provide example of how are they used "
   ]
  },
  {
   "cell_type": "markdown",
   "metadata": {},
   "source": [
    "* Operators are special symbols or keywords that are used to carry out specific actions on numbers or variables in Python expressions. \n",
    "\n",
    "* Python supports various types of operators, including arithmetic operators (+, -, *, /), comparison operators (==, !=, <, >),logical operators (and, or, not), assignment operators (=, +=, -=, *=, /=), etc.\n",
    "\n",
    "* Operators have precedence and associativity rules that determine the order of evaluation in expressions.\n",
    "\n",
    "     #### ****Types of Python Operators****  \n",
    "     ##### Python language supports various types of operators, which are:  \n",
    "   * Arithmetic Operators     \n",
    "   * Comparison (Relational) Operators  \n",
    "   * Assignment Operators  \n",
    "   * Logical Operators  \n",
    "   * Bitwise Operators  \n",
    "   * Membership Operators  \n",
    "   * Identity Operators  "
   ]
  },
  {
   "cell_type": "code",
   "execution_count": 15,
   "metadata": {},
   "outputs": [
    {
     "name": "stdout",
     "output_type": "stream",
     "text": [
      "15\n",
      "5\n",
      "50\n",
      "2.0\n",
      "0\n",
      "100000\n",
      "2\n"
     ]
    }
   ],
   "source": [
    "# Arithmetic Operators:\n",
    "\n",
    "# Used to perform mathematical operations.\n",
    "# Examples:\n",
    "a = 10\n",
    "b = 5\n",
    "print(a + b)  # Addition: 15\n",
    "print(a - b)  # Subtraction: 5\n",
    "print(a * b)  # Multiplication: 50\n",
    "print(a / b)  # Division: 2.0\n",
    "print(a % b)  # Modulus: 0\n",
    "print(a ** b) # Exponentiation: 100000\n",
    "print(a // b) # Floor Division: 2"
   ]
  },
  {
   "cell_type": "code",
   "execution_count": 16,
   "metadata": {},
   "outputs": [
    {
     "name": "stdout",
     "output_type": "stream",
     "text": [
      "False\n",
      "True\n",
      "True\n",
      "False\n",
      "True\n",
      "False\n"
     ]
    }
   ],
   "source": [
    "# Comparison Operators:\n",
    "\n",
    "# Used to compare two values.\n",
    "# Examples:\n",
    "a = 10\n",
    "b = 5\n",
    "print(a == b)  # Equal to: False\n",
    "print(a != b)  # Not equal to: True\n",
    "print(a > b)   # Greater than: True\n",
    "print(a < b)   # Less than: False\n",
    "print(a >= b)  # Greater than or equal to: True\n",
    "print(a <= b)  # Less than or equal to: False"
   ]
  },
  {
   "cell_type": "code",
   "execution_count": 17,
   "metadata": {},
   "outputs": [
    {
     "name": "stdout",
     "output_type": "stream",
     "text": [
      "False\n",
      "True\n",
      "False\n"
     ]
    }
   ],
   "source": [
    "# Logical Operators:\n",
    "# \n",
    "# Used to combine conditional statements.\n",
    "# Examples:\n",
    "a = True\n",
    "b = False\n",
    "print(a and b) # Logical AND: False\n",
    "print(a or b)  # Logical OR: True\n",
    "print(not a)   # Logical NOT: False"
   ]
  },
  {
   "cell_type": "code",
   "execution_count": 18,
   "metadata": {},
   "outputs": [],
   "source": [
    "# Assignment Operators: \n",
    "# Used to assign values to variables.\n",
    "# Examples:\n",
    "a = 10       # Simple assignment\n",
    "a += 5       # a = a + 5 -> 15\n",
    "a -= 3       # a = a - 3 -> 12\n",
    "a *= 2       # a = a * 2 -> 24\n",
    "a /= 4       # a = a / 4 -> 6.0\n",
    "a %= 4       # a = a % 4 -> 2.0\n",
    "a **= 3      # a = a ** 3 -> 8.0\n",
    "a //= 2      # a = a // 2 -> 4.0"
   ]
  },
  {
   "cell_type": "code",
   "execution_count": 19,
   "metadata": {},
   "outputs": [
    {
     "name": "stdout",
     "output_type": "stream",
     "text": [
      "0\n",
      "14\n",
      "14\n",
      "-11\n",
      "40\n",
      "2\n"
     ]
    }
   ],
   "source": [
    "# Bitwise Operators:\n",
    "# Used to perform bit-level operations.\n",
    "# Examples:\n",
    "a = 10  # 1010 in binary\n",
    "b = 4   # 0100 in binary\n",
    "print(a & b)  # Bitwise AND: 0 (0000)\n",
    "print(a | b)  # Bitwise OR: 14 (1110)\n",
    "print(a ^ b)  # Bitwise XOR: 14 (1110)\n",
    "print(~a)     # Bitwise NOT: -11\n",
    "print(a << 2) # Bitwise left shift: 40 (101000)\n",
    "print(a >> 2) # Bitwise right shift: 2 (0010)"
   ]
  },
  {
   "cell_type": "code",
   "execution_count": 20,
   "metadata": {},
   "outputs": [
    {
     "name": "stdout",
     "output_type": "stream",
     "text": [
      "True\n",
      "False\n",
      "True\n"
     ]
    }
   ],
   "source": [
    "# Identity Operators:\n",
    "# Used to compare objects to check if they are the same.\n",
    "# Examples:\n",
    "a = [1, 2, 3]\n",
    "b = a\n",
    "c = a[:]\n",
    "print(a is b)  # True\n",
    "print(a is c)  # False\n",
    "print(a is not c)  # True"
   ]
  },
  {
   "cell_type": "code",
   "execution_count": 21,
   "metadata": {},
   "outputs": [
    {
     "name": "stdout",
     "output_type": "stream",
     "text": [
      "True\n",
      "False\n",
      "True\n"
     ]
    }
   ],
   "source": [
    "# Membership Operators:\n",
    "# Used to test if a sequence contains a value.\n",
    "# Examples:\n",
    "a = [1, 2, 3]\n",
    "print(2 in a)    # True\n",
    "print(4 in a)    # False\n",
    "print(4 not in a) # True"
   ]
  },
  {
   "cell_type": "markdown",
   "metadata": {},
   "source": [
    "#### 5. Explain the concept of type casting in python with example "
   ]
  },
  {
   "cell_type": "markdown",
   "metadata": {},
   "source": [
    "* Type casting, also referred to as type conversion, is the process of changing one data type to another in Python. \n",
    "\n",
    "* Python provides built-in functions for type casting, such as int(), float(), str(), list(), tuple(), dict(), etc.\n",
    "\n",
    "* Type casting is often necessary for performing arithmetic operations, data manipulation, and input/output operations in Python programs."
   ]
  },
  {
   "cell_type": "code",
   "execution_count": 26,
   "metadata": {},
   "outputs": [
    {
     "name": "stdout",
     "output_type": "stream",
     "text": [
      "['h', 'e', 'l', 'l', 'o']\n",
      "<class 'list'>\n",
      "[1, 2, 3]\n",
      "<class 'list'>\n"
     ]
    }
   ],
   "source": [
    "# Convert string to list\n",
    "a = \"hello\"\n",
    "b = list(a)\n",
    "print(b) # Output: ['h', 'e', 'l', 'l', 'o']\n",
    "print(type(b)) \n",
    "\n",
    "# Convert tuple to list\n",
    "c = (1, 2, 3)\n",
    "d = list(c)\n",
    "print(d) # Output: [1, 2, 3]\n",
    "print(type(d))  \n"
   ]
  },
  {
   "cell_type": "code",
   "execution_count": 27,
   "metadata": {},
   "outputs": [
    {
     "name": "stdout",
     "output_type": "stream",
     "text": [
      "5\n",
      "<class 'str'>\n",
      "10.5\n",
      "<class 'str'>\n"
     ]
    }
   ],
   "source": [
    "# Convert int to string\n",
    "a = 5\n",
    "b = str(a)\n",
    "print(b) # Output: \"5\"\n",
    "print(type(b))  \n",
    "\n",
    "# Convert float to string\n",
    "c = 10.5\n",
    "d = str(c)\n",
    "print(d) # Output: \"10.5\"\n",
    "print(type(d))  \n"
   ]
  },
  {
   "cell_type": "markdown",
   "metadata": {},
   "source": [
    "#### 6. How do conditional statements work in python ? Illustrate with example"
   ]
  },
  {
   "cell_type": "markdown",
   "metadata": {},
   "source": [
    "* Conditionals in Python are used to execute code based on the evaluation of one or more conditions.\n",
    "\n",
    "* Python supports conditional statements such as if, elif (else if), and else to control the flow of execution.\n",
    "\n",
    "  * Basic Structure  \n",
    "    1. if Statement: Executes a block of code if a specified condition is true.  \n",
    "    2. elif Statement: Stands for \"else if\" and allows you to check multiple conditions.  \n",
    "    3. else Statement: Executes a block of code if none of the previous conditions are true.  "
   ]
  },
  {
   "cell_type": "code",
   "execution_count": 28,
   "metadata": {},
   "outputs": [
    {
     "name": "stdout",
     "output_type": "stream",
     "text": [
      "Your grade is: C\n"
     ]
    }
   ],
   "source": [
    "# Example: Determine the grade based on the score\n",
    "\n",
    "# Get the score from the user\n",
    "score = int(input(\"Enter your score: \"))\n",
    "\n",
    "# Determine the grade\n",
    "if score >= 90:\n",
    "    grade = 'A'\n",
    "elif score >= 80:\n",
    "    grade = 'B'\n",
    "elif score >= 70:\n",
    "    grade = 'C'\n",
    "elif score >= 60:\n",
    "    grade = 'D'\n",
    "else:\n",
    "    grade = 'F'\n",
    "\n",
    "# Output the result\n",
    "print(f\"Your grade is: {grade}\")\n"
   ]
  },
  {
   "cell_type": "markdown",
   "metadata": {},
   "source": [
    "Explanation\n",
    "\n",
    "* if Statement:  \n",
    "  * The program first checks if the score is greater than or equal to 90.  \n",
    "  * If true, it assigns the grade 'A' and skips the rest of the conditions.\n",
    "\n",
    "* elif Statements:  \n",
    "  * If the first condition is false, it checks if the score is greater than or equal to 80.  \n",
    "  * If true, it assigns the grade 'B' and skips the rest of the conditions.  \n",
    "  * This process continues with each elif checking progressively lower score ranges.  \n",
    "\n",
    "* else Statement:  \n",
    "  * If none of the above conditions are true, the else block executes.  \n",
    "  * In this case, it assigns the grade 'F'.  "
   ]
  },
  {
   "cell_type": "markdown",
   "metadata": {},
   "source": [
    "#### 7. Describe the different types of loops in python and their use case with example"
   ]
  },
  {
   "cell_type": "markdown",
   "metadata": {},
   "source": [
    "* In Python, loops are employed to repeat a sequence of actions or code until a specific condition is fulfilled. \n",
    "\n",
    "* Python offers two primary types of loops: for loops and while loops. \n",
    "\n",
    "* “for” loops are used for iterating over a sequence of elements, while “while” loops are used for executing code until a specified condition becomes False.\n",
    "\n",
    "* Python provides several control statements to manage the flow of loops:\n",
    "\n",
    "  * **break**: Exits the loop immediately.\n",
    "\n",
    "  * **continue**: Skips the rest of the code inside the loop for the current iteration and moves to the next iteration.\n",
    "\n",
    "  * **else**: Executes a block of code once when the loop condition is no longer true, but not if   the loop is terminated by a break statement."
   ]
  },
  {
   "cell_type": "code",
   "execution_count": 32,
   "metadata": {},
   "outputs": [
    {
     "name": "stdout",
     "output_type": "stream",
     "text": [
      "1\n",
      "2\n",
      "3\n",
      "4\n",
      "5\n"
     ]
    }
   ],
   "source": [
    "# for loop example \n",
    "'''The for loop is used to iterate over a sequence (such as a list, tuple, string, or range) \n",
    "and execute a block of code for each element in the sequence.'''\n",
    "\n",
    "numbers = [1, 2, 3, 4, 5]\n",
    "for number in numbers:\n",
    "    print(number)"
   ]
  },
  {
   "cell_type": "code",
   "execution_count": 33,
   "metadata": {},
   "outputs": [
    {
     "name": "stdout",
     "output_type": "stream",
     "text": [
      "0\n",
      "1\n",
      "2\n",
      "3\n",
      "4\n"
     ]
    }
   ],
   "source": [
    "'''The range() function is often used with for loops to generate a sequence of numbers.'''\n",
    "# Example: Using range()\n",
    "for i in range(5):\n",
    "    print(i)"
   ]
  },
  {
   "cell_type": "code",
   "execution_count": 34,
   "metadata": {},
   "outputs": [
    {
     "name": "stdout",
     "output_type": "stream",
     "text": [
      "0\n",
      "1\n",
      "2\n",
      "3\n",
      "4\n"
     ]
    }
   ],
   "source": [
    "# while Loop\n",
    "'''The while loop repeatedly executes a block of code as long as a given condition is true.'''\n",
    "# Example: Using a while loop\n",
    "count = 0\n",
    "while count < 5:\n",
    "    print(count)\n",
    "    count += 1\n"
   ]
  }
 ],
 "metadata": {
  "kernelspec": {
   "display_name": "Python 3",
   "language": "python",
   "name": "python3"
  },
  "language_info": {
   "codemirror_mode": {
    "name": "ipython",
    "version": 3
   },
   "file_extension": ".py",
   "mimetype": "text/x-python",
   "name": "python",
   "nbconvert_exporter": "python",
   "pygments_lexer": "ipython3",
   "version": "3.11.5"
  }
 },
 "nbformat": 4,
 "nbformat_minor": 2
}
